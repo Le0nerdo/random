{
 "metadata": {
  "language_info": {
   "codemirror_mode": {
    "name": "ipython",
    "version": 3
   },
   "file_extension": ".py",
   "mimetype": "text/x-python",
   "name": "python",
   "nbconvert_exporter": "python",
   "pygments_lexer": "ipython3",
   "version": "3.8.8"
  },
  "orig_nbformat": 2,
  "kernelspec": {
   "name": "python388jvsc74a57bd0e2c20d78c6e4c1563fd1542ff22925f85ede6b3017c7db74cf7c3b3204cdccee",
   "display_name": "Python 3.8.8 64-bit ('qiskit': conda)"
  }
 },
 "nbformat": 4,
 "nbformat_minor": 2,
 "cells": [
  {
   "source": [
    "# Using VQE to Approximate the Lowest Eigenvalue of a Hermitian Matrix\n",
    "*Written by. Leo Becker*\n",
    "\n",
    "VQE can approximate the lowest eigenvalue of a Hermitian matrix. The output is an eigenvaluea $\\lambda$ of a matrix $M$ is such a number that there is a non zero vector $|v\\rangle$ for witch\n",
    "\n",
    "$$ M|v\\rangle=\\lambda|v\\rangle$$\n",
    "\n",
    "\\[1\\],and our input is a Hermitian matrix meaning that\n",
    "\n",
    "$$ M=M^*$$\n",
    "\n",
    ", where $^*$ denotes the conjugate transpose \\[2\\].\n",
    "\n",
    "The most common usecase I see for the algorithm to calculate the ground state energy of a molecule. This work because a hamiltoanian of a molecule is a Hermitian matrix and the ground state energy levelt is its lowest eigenvalue \\[8\\].\n",
    "\n",
    "The eigenvalue of a Hermitian matrix can also be interesting on other cases. My goal with this essay is to explain the algorithm in isolation. I will be using matrices to represent quantum gates and vectors for quantum states \\[3\\]. For a vector I will be using the notation $|v\\rangle$ and for its transpose $\\langle v|$.\n",
    "\n",
    "First I will explain a bit about something called expectation value and some properties it has. Then there will be an example of showing how to run the algorithm on a $2\\times 2$ to explain the algorithm. After that there will be a $4\\times 4$ matrix to show how the algorithm scales for $2^n+2^b$ matrices. In the end will be a tric how to solve for $n\\times n$ Hermitian matrices. \n",
    "\n",
    "Now I will introduce what in my opinion is the star of the show. I will be using $|\\psi\\rangle$ for a quantum state and $M$ as the Hermitian matrix.\n",
    "\n",
    "## $$\\langle\\psi|M|\\psi\\rangle\\equiv \\langle M\\rangle_\\psi$$\n",
    "\n",
    "This is often called the expectation value of $M$ in the state $\\psi$ \\[4\\]. We will go through some properties it has. It is linear because\n",
    "\n",
    "$$\n",
    "\\langle\\psi|(aA+B)|\\psi\\rangle\n",
    "=\\langle\\psi|aA|\\psi\\rangle+\\langle\\psi|B|\\psi\\rangle\n",
    "=a\\langle\\psi|A|\\psi\\rangle+\\langle\\psi|B|\\psi\\rangle\n",
    "$$\n",
    "\n",
    "where $A,B \\in \\mathbb C^{n\\times n}$, $n\\in \\mathbb N$ and $a \\in \\mathbb C$ . Hermitian matrices can be written as eigencompositions\n",
    "\n",
    "$$M=\\sum_i\\lambda_i|\\psi_i\\rangle\\langle\\psi_i| $$\n",
    "\n",
    "where the sum goes over all the eigenvalues $\\lambda_i$ with theyr orthonormal unit eigenvectors $\\psi_i$ \\[2\\]. With this information we get\n",
    "\n",
    "$$\n",
    "\\langle\\psi|M|\\psi\\rangle\n",
    "=\\langle\\psi|(\\sum_i\\lambda_i|\\psi_i\\rangle\\langle\\psi_i|)|\\psi\\rangle\n",
    "=\\sum_i\\lambda_i\\langle\\psi|\\psi_i\\rangle\\langle\\psi_i|\\psi\\rangle\n",
    "=\\sum_i\\lambda_i|\\langle\\psi|\\psi_i\\rangle|^2\n",
    "$$\n",
    "\n",
    ". Now because $|\\psi\\rangle$ is a quantum state meaning that it is a unit vector and all $|\\psi\\rangle$ are also unitvectors and orthogonal. We always get\n",
    "\n",
    "$$\n",
    "\\sum_i|\\langle\\psi|\\psi_i\\rangle|^2=1\n",
    "$$\n",
    "\n",
    "and $|\\langle\\psi|\\psi_i\\rangle|^2\\leq 0$ meaning that we get a veighted sum of the eigenvalues an the minimum value of the expectation value is the lowest eigenvalue $\\lambda_{min}$ and we get it when $\\psi=\\psi_{min}$\n",
    "\n",
    "$$\n",
    "\\langle\\psi|M|\\psi\\rangle\n",
    "=\\sum_i\\lambda_i|\\langle\\psi_{min}|\\psi_i\\rangle|^2\n",
    "=\\lambda_{min}|\\langle\\psi_{min}|\\psi_{min}\\rangle|^2\n",
    "=\\lambda_{min}\n",
    "$$\n",
    "\n",
    "Now we know that for any quantum state $|\\psi\\rangle$\n",
    "\n",
    "$$\n",
    "\\lambda_{min} \\leq \\langle\\psi|M|\\psi\\rangle = \\langle M\\rangle_\\psi\n",
    "$$\n",
    "\n",
    "We can calculate  $\\langle M\\rangle_\\psi$ from measurements when we have enough repetitions, because the possibility to measure the quantum state as x is $|\\langle\\psi|x\\rangle|^2$ \\[6\\]. So lets go through the algorithm.\n",
    "\n"
   ],
   "cell_type": "markdown",
   "metadata": {}
  },
  {
   "source": [
    "## How Does it Work? $2\\times 2$ Matrix\n",
    "\n",
    "We need to solve 2 problems. How to make the quantum state $|\\psi\\rangle$ and how to read the expectation value? I will be using Qiskit to run my examples.\n",
    "\n",
    "Because the matrix is $2\\times2$ we need a state $|\\psi\\rangle$ that is a vector with 2 entities, meaning that we need only 1 qubit. We also want it to be able to be parametrized so that it can get low values from $\\langle \\psi|M|\\psi \\rangle$. To keep it simple we will have a sircuit that is often called anzats $U(\\theta)$ that acts on the zero state $|0\\rangle$. $U(\\theta)$ can be mostly whatever as long as it has the right amount of qubits. Usually we want to have $|\\psi\\rangle$ so that it can get close to the eigenvector of the lowest eigenvalue. This is because $\\langle \\psi_{min}|M|\\psi_{min}\\rangle=\\lambda_{min}$ \\[1\\]. I will use an anzats that was inspired by the anzats used in a Qiskit tutorial \\[6\\].\n"
   ],
   "cell_type": "markdown",
   "metadata": {}
  },
  {
   "cell_type": "code",
   "execution_count": 23,
   "metadata": {},
   "outputs": [
    {
     "output_type": "execute_result",
     "data": {
      "text/plain": [
       "<Figure size 217.382x144.48 with 1 Axes>"
      ],
      "image/svg+xml": "<?xml version=\"1.0\" encoding=\"utf-8\" standalone=\"no\"?>\r\n<!DOCTYPE svg PUBLIC \"-//W3C//DTD SVG 1.1//EN\"\r\n  \"http://www.w3.org/Graphics/SVG/1.1/DTD/svg11.dtd\">\r\n<svg height=\"123.4824pt\" version=\"1.1\" viewBox=\"0 0 178.523334 123.4824\" width=\"178.523334pt\" xmlns=\"http://www.w3.org/2000/svg\" xmlns:xlink=\"http://www.w3.org/1999/xlink\">\r\n <metadata>\r\n  <rdf:RDF xmlns:cc=\"http://creativecommons.org/ns#\" xmlns:dc=\"http://purl.org/dc/elements/1.1/\" xmlns:rdf=\"http://www.w3.org/1999/02/22-rdf-syntax-ns#\">\r\n   <cc:Work>\r\n    <dc:type rdf:resource=\"http://purl.org/dc/dcmitype/StillImage\"/>\r\n    <dc:date>2021-05-03T19:13:22.514258</dc:date>\r\n    <dc:format>image/svg+xml</dc:format>\r\n    <dc:creator>\r\n     <cc:Agent>\r\n      <dc:title>Matplotlib v3.4.1, https://matplotlib.org/</dc:title>\r\n     </cc:Agent>\r\n    </dc:creator>\r\n   </cc:Work>\r\n  </rdf:RDF>\r\n </metadata>\r\n <defs>\r\n  <style type=\"text/css\">*{stroke-linecap:butt;stroke-linejoin:round;}</style>\r\n </defs>\r\n <g id=\"figure_1\">\r\n  <g id=\"patch_1\">\r\n   <path d=\"M 0 123.4824 \r\nL 178.523334 123.4824 \r\nL 178.523334 0 \r\nL 0 0 \r\nz\r\n\" style=\"fill:#ffffff;\"/>\r\n  </g>\r\n  <g id=\"axes_1\">\r\n   <g id=\"line2d_1\">\r\n    <path clip-path=\"url(#p1b3881f20d)\" d=\"M 71.331134 43.5608 \r\nL 166.778234 43.5608 \r\n\" style=\"fill:none;stroke:#000000;stroke-linecap:square;stroke-width:2;\"/>\r\n   </g>\r\n   <g id=\"line2d_2\">\r\n    <path clip-path=\"url(#p1b3881f20d)\" d=\"M 71.331134 87.534643 \r\nL 166.778234 87.534643 \r\n\" style=\"fill:none;stroke:#778899;stroke-linecap:square;stroke-width:2;\"/>\r\n   </g>\r\n   <g id=\"line2d_3\">\r\n    <path clip-path=\"url(#p1b3881f20d)\" d=\"M 71.331134 90.488958 \r\nL 166.778234 90.488958 \r\n\" style=\"fill:none;stroke:#778899;stroke-linecap:square;stroke-width:2;\"/>\r\n   </g>\r\n   <g id=\"patch_2\">\r\n    <path clip-path=\"url(#p1b3881f20d)\" d=\"M 81.103099 58.332375 \r\nL 110.646249 58.332375 \r\nL 110.646249 28.789225 \r\nL 81.103099 28.789225 \r\nz\r\n\" style=\"fill:#bb8bff;stroke:#bb8bff;stroke-linejoin:miter;stroke-width:1.5;\"/>\r\n   </g>\r\n   <g id=\"patch_3\">\r\n    <path clip-path=\"url(#p1b3881f20d)\" d=\"M 126.554099 58.332375 \r\nL 156.097249 58.332375 \r\nL 156.097249 28.789225 \r\nL 126.554099 28.789225 \r\nz\r\n\" style=\"fill:#bb8bff;stroke:#bb8bff;stroke-linejoin:miter;stroke-width:1.5;\"/>\r\n   </g>\r\n   <g id=\"text_1\">\r\n    <g clip-path=\"url(#p1b3881f20d)\">\r\n     <!-- $\\mathrm{R}_\\mathrm{Y}$ -->\r\n     <g transform=\"translate(88.334674 42.716515)scale(0.13 -0.13)\">\r\n      <defs>\r\n       <path d=\"M 2841 2188 \r\nQ 3044 2119 3236 1894 \r\nQ 3428 1669 3622 1275 \r\nL 4263 0 \r\nL 3584 0 \r\nL 2988 1197 \r\nQ 2756 1666 2539 1819 \r\nQ 2322 1972 1947 1972 \r\nL 1259 1972 \r\nL 1259 0 \r\nL 628 0 \r\nL 628 4666 \r\nL 2053 4666 \r\nQ 2853 4666 3247 4331 \r\nQ 3641 3997 3641 3322 \r\nQ 3641 2881 3436 2590 \r\nQ 3231 2300 2841 2188 \r\nz\r\nM 1259 4147 \r\nL 1259 2491 \r\nL 2053 2491 \r\nQ 2509 2491 2742 2702 \r\nQ 2975 2913 2975 3322 \r\nQ 2975 3731 2742 3939 \r\nQ 2509 4147 2053 4147 \r\nL 1259 4147 \r\nz\r\n\" id=\"DejaVuSans-52\" transform=\"scale(0.015625)\"/>\r\n       <path d=\"M -13 4666 \r\nL 666 4666 \r\nL 1959 2747 \r\nL 3244 4666 \r\nL 3922 4666 \r\nL 2272 2222 \r\nL 2272 0 \r\nL 1638 0 \r\nL 1638 2222 \r\nL -13 4666 \r\nz\r\n\" id=\"DejaVuSans-59\" transform=\"scale(0.015625)\"/>\r\n      </defs>\r\n      <use transform=\"translate(0 0.09375)\" xlink:href=\"#DejaVuSans-52\"/>\r\n      <use transform=\"translate(70.439453 -16.3125)scale(0.7)\" xlink:href=\"#DejaVuSans-59\"/>\r\n     </g>\r\n    </g>\r\n   </g>\r\n   <g id=\"text_2\">\r\n    <g clip-path=\"url(#p1b3881f20d)\">\r\n     <!-- 0 -->\r\n     <g transform=\"translate(93.329674 54.631245)scale(0.08 -0.08)\">\r\n      <defs>\r\n       <path d=\"M 2034 4250 \r\nQ 1547 4250 1301 3770 \r\nQ 1056 3291 1056 2328 \r\nQ 1056 1369 1301 889 \r\nQ 1547 409 2034 409 \r\nQ 2525 409 2770 889 \r\nQ 3016 1369 3016 2328 \r\nQ 3016 3291 2770 3770 \r\nQ 2525 4250 2034 4250 \r\nz\r\nM 2034 4750 \r\nQ 2819 4750 3233 4129 \r\nQ 3647 3509 3647 2328 \r\nQ 3647 1150 3233 529 \r\nQ 2819 -91 2034 -91 \r\nQ 1250 -91 836 529 \r\nQ 422 1150 422 2328 \r\nQ 422 3509 836 4129 \r\nQ 1250 4750 2034 4750 \r\nz\r\n\" id=\"DejaVuSans-30\" transform=\"scale(0.015625)\"/>\r\n      </defs>\r\n      <use xlink:href=\"#DejaVuSans-30\"/>\r\n     </g>\r\n    </g>\r\n   </g>\r\n   <g id=\"text_3\">\r\n    <g clip-path=\"url(#p1b3881f20d)\">\r\n     <!-- $\\mathrm{R}_\\mathrm{Z}$ -->\r\n     <g transform=\"translate(133.395674 42.716515)scale(0.13 -0.13)\">\r\n      <defs>\r\n       <path d=\"M 359 4666 \r\nL 4025 4666 \r\nL 4025 4184 \r\nL 1075 531 \r\nL 4097 531 \r\nL 4097 0 \r\nL 288 0 \r\nL 288 481 \r\nL 3238 4134 \r\nL 359 4134 \r\nL 359 4666 \r\nz\r\n\" id=\"DejaVuSans-5a\" transform=\"scale(0.015625)\"/>\r\n      </defs>\r\n      <use transform=\"translate(0 0.09375)\" xlink:href=\"#DejaVuSans-52\"/>\r\n      <use transform=\"translate(70.439453 -16.3125)scale(0.7)\" xlink:href=\"#DejaVuSans-5a\"/>\r\n     </g>\r\n    </g>\r\n   </g>\r\n   <g id=\"text_4\">\r\n    <g clip-path=\"url(#p1b3881f20d)\">\r\n     <!-- 0 -->\r\n     <g transform=\"translate(138.780674 54.631245)scale(0.08 -0.08)\">\r\n      <use xlink:href=\"#DejaVuSans-30\"/>\r\n     </g>\r\n    </g>\r\n   </g>\r\n   <g id=\"text_5\">\r\n    <g clip-path=\"url(#p1b3881f20d)\">\r\n     <!-- q_1 -->\r\n     <g transform=\"translate(33.46066 47.592831)scale(0.1625 -0.1625)\">\r\n      <defs>\r\n       <path d=\"M 947 1747 \r\nQ 947 1113 1208 752 \r\nQ 1469 391 1925 391 \r\nQ 2381 391 2643 752 \r\nQ 2906 1113 2906 1747 \r\nQ 2906 2381 2643 2742 \r\nQ 2381 3103 1925 3103 \r\nQ 1469 3103 1208 2742 \r\nQ 947 2381 947 1747 \r\nz\r\nM 2906 525 \r\nQ 2725 213 2448 61 \r\nQ 2172 -91 1784 -91 \r\nQ 1150 -91 751 415 \r\nQ 353 922 353 1747 \r\nQ 353 2572 751 3078 \r\nQ 1150 3584 1784 3584 \r\nQ 2172 3584 2448 3432 \r\nQ 2725 3281 2906 2969 \r\nL 2906 3500 \r\nL 3481 3500 \r\nL 3481 -1331 \r\nL 2906 -1331 \r\nL 2906 525 \r\nz\r\n\" id=\"DejaVuSans-71\" transform=\"scale(0.015625)\"/>\r\n       <path d=\"M 3263 -1063 \r\nL 3263 -1509 \r\nL -63 -1509 \r\nL -63 -1063 \r\nL 3263 -1063 \r\nz\r\n\" id=\"DejaVuSans-5f\" transform=\"scale(0.015625)\"/>\r\n       <path d=\"M 794 531 \r\nL 1825 531 \r\nL 1825 4091 \r\nL 703 3866 \r\nL 703 4441 \r\nL 1819 4666 \r\nL 2450 4666 \r\nL 2450 531 \r\nL 3481 531 \r\nL 3481 0 \r\nL 794 0 \r\nL 794 531 \r\nz\r\n\" id=\"DejaVuSans-31\" transform=\"scale(0.015625)\"/>\r\n      </defs>\r\n      <use xlink:href=\"#DejaVuSans-71\"/>\r\n      <use x=\"63.476562\" xlink:href=\"#DejaVuSans-5f\"/>\r\n      <use x=\"113.476562\" xlink:href=\"#DejaVuSans-31\"/>\r\n     </g>\r\n    </g>\r\n   </g>\r\n   <g id=\"text_6\">\r\n    <g clip-path=\"url(#p1b3881f20d)\">\r\n     <!-- c1 -->\r\n     <g transform=\"translate(42.96691 93.495784)scale(0.1625 -0.1625)\">\r\n      <defs>\r\n       <path d=\"M 3122 3366 \r\nL 3122 2828 \r\nQ 2878 2963 2633 3030 \r\nQ 2388 3097 2138 3097 \r\nQ 1578 3097 1268 2742 \r\nQ 959 2388 959 1747 \r\nQ 959 1106 1268 751 \r\nQ 1578 397 2138 397 \r\nQ 2388 397 2633 464 \r\nQ 2878 531 3122 666 \r\nL 3122 134 \r\nQ 2881 22 2623 -34 \r\nQ 2366 -91 2075 -91 \r\nQ 1284 -91 818 406 \r\nQ 353 903 353 1747 \r\nQ 353 2603 823 3093 \r\nQ 1294 3584 2113 3584 \r\nQ 2378 3584 2631 3529 \r\nQ 2884 3475 3122 3366 \r\nz\r\n\" id=\"DejaVuSans-63\" transform=\"scale(0.015625)\"/>\r\n      </defs>\r\n      <use xlink:href=\"#DejaVuSans-63\"/>\r\n      <use x=\"54.980469\" xlink:href=\"#DejaVuSans-31\"/>\r\n     </g>\r\n    </g>\r\n   </g>\r\n  </g>\r\n </g>\r\n <defs>\r\n  <clipPath id=\"p1b3881f20d\">\r\n   <rect height=\"109.0824\" width=\"164.123334\" x=\"7.2\" y=\"7.2\"/>\r\n  </clipPath>\r\n </defs>\r\n</svg>\r\n",
      "image/png": "[encoded data removed]"
     },
     "metadata": {},
     "execution_count": 23
    }
   ],
   "source": [
    "from qiskit import QuantumCircuit, ClassicalRegister, QuantumRegister\n",
    "\n",
    "def create_ansatz(params):\n",
    "    qr = QuantumRegister(1, name=\"q_1\")\n",
    "    cr = ClassicalRegister(1, name='c1')\n",
    "    qc = QuantumCircuit(qr, cr)\n",
    "    qc.ry(params[0], qr[0])\n",
    "    qc.rz(params[1], qr[0])\n",
    "    return (qc, qr, cr)\n",
    "\n",
    "create_ansatz([0,0])[0].draw(output='mpl')"
   ]
  },
  {
   "source": [
    "As an example let us use the matrix\n",
    "\n",
    "$$M=\\begin{bmatrix}2&1\\\\1&2\\end{bmatrix}$$\n",
    "\n",
    "Now we have another problem. How do we get the M into the circuit. It would be nice to have a gate like M, but we can forget about that because $MM\\neq I$ (does not cancel itself). So we need another way. Lucky for us we can use Pauli matrices and the identity matrix to create any $2\\times 2$ Hermitian matrix \\[3\\]. The Pauli matrices as quantum gates are (we add I that does nothing here)\n",
    "\n",
    "$$ X=\\begin{bmatrix}0&1\\\\1&0\\end{bmatrix} Y=\\begin{bmatrix}0&-i\\\\i&0\\end{bmatrix} Z=\\begin{bmatrix}1&0\\\\0&-1\\end{bmatrix} I=\\begin{bmatrix}1&0\\\\0&1\\end{bmatrix}$$\n",
    "\n",
    "meaning that \n",
    "\n",
    "$$M=2I+X$$\n",
    "\n",
    "\\[4\\]. Now we can calculate the expectation value with the formula\n",
    "\n",
    "$$ \\langle M\\rangle_\\psi = 2\\langle I\\rangle_\\psi + \\langle X\\rangle_\\psi$$\n",
    "\n",
    "\n",
    "\n",
    "Our cost function will calculate the expectation value for every needed matrix and then add and multiply them to create the value. For this we need to be able to calculate the expectation values in the following way. For calculating $X$ we need the help of a Hadamar gate $H$ and that $X=HZH$.\n",
    "\n",
    "\\begin{equation}\n",
    "\\begin{split}\n",
    "\\langle X\\rangle_{\\psi}\n",
    "&=\\langle\\psi|X|\\psi\\rangle\n",
    "=\\langle\\psi|HZH|\\psi\\rangle\\\\\n",
    "&=\\langle H^*\\psi|Z|H\\psi\\rangle\n",
    "=\\langle H\\psi|Z|H\\psi\\rangle\\\\\n",
    "&=\\langle H\\psi|0\\rangle\\langle0|H\\psi\\rangle-\\langle H\\psi|1\\rangle\\langle1|H\\psi\\rangle\\\\\n",
    "&=|\\langle H\\psi|0\\rangle|^2 - |\\langle H\\psi|1\\rangle|^2 \n",
    "\\end{split}\n",
    "\\end{equation}\n",
    "\n",
    "$$\\langle I\\rangle_{\\psi} = \\langle\\psi|I|\\psi\\rangle=\\langle\\psi|0\\rangle\\langle0|\\psi\\rangle+\\langle\\psi|1\\rangle\\langle1|\\psi\\rangle=|\\langle\\psi|0\\rangle|^2+|\\langle\\psi|1\\rangle|^2$$\n",
    "\n",
    "For $X$ We need to add $H$ first to get the desired state and for I we do not need to do anything. First we calculate the seperate expectation values."
   ],
   "cell_type": "markdown",
   "metadata": {}
  },
  {
   "cell_type": "code",
   "execution_count": 24,
   "metadata": {},
   "outputs": [
    {
     "output_type": "stream",
     "name": "stdout",
     "text": [
      "The circuit for calculating the expectationvalue of X:\n"
     ]
    },
    {
     "output_type": "execute_result",
     "data": {
      "text/plain": [
       "<Figure size 397.982x144.48 with 1 Axes>"
      ],
      "image/svg+xml": "<?xml version=\"1.0\" encoding=\"utf-8\" standalone=\"no\"?>\r\n<!DOCTYPE svg PUBLIC \"-//W3C//DTD SVG 1.1//EN\"\r\n  \"http://www.w3.org/Graphics/SVG/1.1/DTD/svg11.dtd\">\r\n<svg height=\"123.4824pt\" version=\"1.1\" viewBox=\"0 0 314.876334 123.4824\" width=\"314.876334pt\" xmlns=\"http://www.w3.org/2000/svg\" xmlns:xlink=\"http://www.w3.org/1999/xlink\">\r\n <metadata>\r\n  <rdf:RDF xmlns:cc=\"http://creativecommons.org/ns#\" xmlns:dc=\"http://purl.org/dc/elements/1.1/\" xmlns:rdf=\"http://www.w3.org/1999/02/22-rdf-syntax-ns#\">\r\n   <cc:Work>\r\n    <dc:type rdf:resource=\"http://purl.org/dc/dcmitype/StillImage\"/>\r\n    <dc:date>2021-05-03T19:13:25.355131</dc:date>\r\n    <dc:format>image/svg+xml</dc:format>\r\n    <dc:creator>\r\n     <cc:Agent>\r\n      <dc:title>Matplotlib v3.4.1, https://matplotlib.org/</dc:title>\r\n     </cc:Agent>\r\n    </dc:creator>\r\n   </cc:Work>\r\n  </rdf:RDF>\r\n </metadata>\r\n <defs>\r\n  <style type=\"text/css\">*{stroke-linecap:butt;stroke-linejoin:round;}</style>\r\n </defs>\r\n <g id=\"figure_1\">\r\n  <g id=\"patch_1\">\r\n   <path d=\"M 0 123.4824 \r\nL 314.876334 123.4824 \r\nL 314.876334 0 \r\nL 0 0 \r\nz\r\n\" style=\"fill:#ffffff;\"/>\r\n  </g>\r\n  <g id=\"axes_1\">\r\n   <g id=\"patch_2\">\r\n    <path clip-path=\"url(#p6060bed8fb)\" d=\"M 271.770044 78.671698 \r\nL 283.587304 78.671698 \r\nL 277.678674 87.19376 \r\nz\r\n\" style=\"fill:#778899;\"/>\r\n   </g>\r\n   <g id=\"line2d_1\">\r\n    <path clip-path=\"url(#p6060bed8fb)\" d=\"M 71.331134 43.5608 \r\nL 303.131234 43.5608 \r\n\" style=\"fill:none;stroke:#000000;stroke-linecap:square;stroke-width:2;\"/>\r\n   </g>\r\n   <g id=\"line2d_2\">\r\n    <path clip-path=\"url(#p6060bed8fb)\" d=\"M 71.331134 87.534643 \r\nL 303.131234 87.534643 \r\n\" style=\"fill:none;stroke:#778899;stroke-linecap:square;stroke-width:2;\"/>\r\n   </g>\r\n   <g id=\"line2d_3\">\r\n    <path clip-path=\"url(#p6060bed8fb)\" d=\"M 71.331134 90.488958 \r\nL 303.131234 90.488958 \r\n\" style=\"fill:none;stroke:#778899;stroke-linecap:square;stroke-width:2;\"/>\r\n   </g>\r\n   <g id=\"line2d_4\">\r\n    <path clip-path=\"url(#p6060bed8fb)\" d=\"M 279.155831 43.5608 \r\nL 279.155831 78.671698 \r\n\" style=\"fill:none;stroke:#778899;stroke-linecap:square;stroke-width:2;\"/>\r\n   </g>\r\n   <g id=\"line2d_5\">\r\n    <path clip-path=\"url(#p6060bed8fb)\" d=\"M 276.201516 43.5608 \r\nL 276.201516 78.671698 \r\n\" style=\"fill:none;stroke:#778899;stroke-linecap:square;stroke-width:2;\"/>\r\n   </g>\r\n   <g id=\"patch_3\">\r\n    <path clip-path=\"url(#p6060bed8fb)\" d=\"M 81.103099 58.332375 \r\nL 110.646249 58.332375 \r\nL 110.646249 28.789225 \r\nL 81.103099 28.789225 \r\nz\r\n\" style=\"fill:#bb8bff;stroke:#bb8bff;stroke-linejoin:miter;stroke-width:1.5;\"/>\r\n   </g>\r\n   <g id=\"patch_4\">\r\n    <path clip-path=\"url(#p6060bed8fb)\" d=\"M 126.554099 58.332375 \r\nL 156.097249 58.332375 \r\nL 156.097249 28.789225 \r\nL 126.554099 28.789225 \r\nz\r\n\" style=\"fill:#bb8bff;stroke:#bb8bff;stroke-linejoin:miter;stroke-width:1.5;\"/>\r\n   </g>\r\n   <g id=\"patch_5\">\r\n    <path clip-path=\"url(#p6060bed8fb)\" d=\"M 172.005099 58.332375 \r\nL 201.548249 58.332375 \r\nL 201.548249 28.789225 \r\nL 172.005099 28.789225 \r\nz\r\n\" style=\"fill:#6fa4ff;stroke:#6fa4ff;stroke-linejoin:miter;stroke-width:1.5;\"/>\r\n   </g>\r\n   <g id=\"patch_6\">\r\n    <path clip-path=\"url(#p6060bed8fb)\" d=\"M 217.456099 58.332375 \r\nL 246.999249 58.332375 \r\nL 246.999249 28.789225 \r\nL 217.456099 28.789225 \r\nz\r\n\" style=\"fill:#05bab6;stroke:#05bab6;stroke-linejoin:miter;stroke-width:1.5;\"/>\r\n   </g>\r\n   <g id=\"patch_7\">\r\n    <path clip-path=\"url(#p6060bed8fb)\" d=\"M 262.907099 58.332375 \r\nL 292.450249 58.332375 \r\nL 292.450249 28.789225 \r\nL 262.907099 28.789225 \r\nz\r\n\" style=\"stroke:#000000;stroke-linejoin:miter;stroke-width:1.5;\"/>\r\n   </g>\r\n   <g id=\"patch_8\">\r\n    <path clip-path=\"url(#p6060bed8fb)\" d=\"M 288.018776 47.992273 \r\nC 288.018776 45.250959 286.928632 42.619118 284.99023 40.680716 \r\nC 283.051829 38.742314 280.419988 37.65217 277.678674 37.65217 \r\nC 274.93736 37.65217 272.305519 38.742314 270.367117 40.680716 \r\nC 268.428715 42.619118 267.338571 45.250959 267.338571 47.992273 \r\n\" style=\"fill:none;stroke:#ffffff;stroke-linejoin:miter;stroke-width:2;\"/>\r\n   </g>\r\n   <g id=\"line2d_6\">\r\n    <path clip-path=\"url(#p6060bed8fb)\" d=\"M 277.678674 47.992273 \r\nL 288.018776 37.65217 \r\n\" style=\"fill:none;stroke:#ffffff;stroke-linecap:square;stroke-width:2;\"/>\r\n   </g>\r\n   <g id=\"text_1\">\r\n    <g clip-path=\"url(#p6060bed8fb)\">\r\n     <!-- $\\mathrm{R}_\\mathrm{Y}$ -->\r\n     <g transform=\"translate(88.334674 42.716515)scale(0.13 -0.13)\">\r\n      <defs>\r\n       <path d=\"M 2841 2188 \r\nQ 3044 2119 3236 1894 \r\nQ 3428 1669 3622 1275 \r\nL 4263 0 \r\nL 3584 0 \r\nL 2988 1197 \r\nQ 2756 1666 2539 1819 \r\nQ 2322 1972 1947 1972 \r\nL 1259 1972 \r\nL 1259 0 \r\nL 628 0 \r\nL 628 4666 \r\nL 2053 4666 \r\nQ 2853 4666 3247 4331 \r\nQ 3641 3997 3641 3322 \r\nQ 3641 2881 3436 2590 \r\nQ 3231 2300 2841 2188 \r\nz\r\nM 1259 4147 \r\nL 1259 2491 \r\nL 2053 2491 \r\nQ 2509 2491 2742 2702 \r\nQ 2975 2913 2975 3322 \r\nQ 2975 3731 2742 3939 \r\nQ 2509 4147 2053 4147 \r\nL 1259 4147 \r\nz\r\n\" id=\"DejaVuSans-52\" transform=\"scale(0.015625)\"/>\r\n       <path d=\"M -13 4666 \r\nL 666 4666 \r\nL 1959 2747 \r\nL 3244 4666 \r\nL 3922 4666 \r\nL 2272 2222 \r\nL 2272 0 \r\nL 1638 0 \r\nL 1638 2222 \r\nL -13 4666 \r\nz\r\n\" id=\"DejaVuSans-59\" transform=\"scale(0.015625)\"/>\r\n      </defs>\r\n      <use transform=\"translate(0 0.09375)\" xlink:href=\"#DejaVuSans-52\"/>\r\n      <use transform=\"translate(70.439453 -16.3125)scale(0.7)\" xlink:href=\"#DejaVuSans-59\"/>\r\n     </g>\r\n    </g>\r\n   </g>\r\n   <g id=\"text_2\">\r\n    <g clip-path=\"url(#p6060bed8fb)\">\r\n     <!-- 0 -->\r\n     <g transform=\"translate(93.329674 54.631245)scale(0.08 -0.08)\">\r\n      <defs>\r\n       <path d=\"M 2034 4250 \r\nQ 1547 4250 1301 3770 \r\nQ 1056 3291 1056 2328 \r\nQ 1056 1369 1301 889 \r\nQ 1547 409 2034 409 \r\nQ 2525 409 2770 889 \r\nQ 3016 1369 3016 2328 \r\nQ 3016 3291 2770 3770 \r\nQ 2525 4250 2034 4250 \r\nz\r\nM 2034 4750 \r\nQ 2819 4750 3233 4129 \r\nQ 3647 3509 3647 2328 \r\nQ 3647 1150 3233 529 \r\nQ 2819 -91 2034 -91 \r\nQ 1250 -91 836 529 \r\nQ 422 1150 422 2328 \r\nQ 422 3509 836 4129 \r\nQ 1250 4750 2034 4750 \r\nz\r\n\" id=\"DejaVuSans-30\" transform=\"scale(0.015625)\"/>\r\n      </defs>\r\n      <use xlink:href=\"#DejaVuSans-30\"/>\r\n     </g>\r\n    </g>\r\n   </g>\r\n   <g id=\"text_3\">\r\n    <g clip-path=\"url(#p6060bed8fb)\">\r\n     <!-- $\\mathrm{R}_\\mathrm{Z}$ -->\r\n     <g transform=\"translate(133.395674 42.716515)scale(0.13 -0.13)\">\r\n      <defs>\r\n       <path d=\"M 359 4666 \r\nL 4025 4666 \r\nL 4025 4184 \r\nL 1075 531 \r\nL 4097 531 \r\nL 4097 0 \r\nL 288 0 \r\nL 288 481 \r\nL 3238 4134 \r\nL 359 4134 \r\nL 359 4666 \r\nz\r\n\" id=\"DejaVuSans-5a\" transform=\"scale(0.015625)\"/>\r\n      </defs>\r\n      <use transform=\"translate(0 0.09375)\" xlink:href=\"#DejaVuSans-52\"/>\r\n      <use transform=\"translate(70.439453 -16.3125)scale(0.7)\" xlink:href=\"#DejaVuSans-5a\"/>\r\n     </g>\r\n    </g>\r\n   </g>\r\n   <g id=\"text_4\">\r\n    <g clip-path=\"url(#p6060bed8fb)\">\r\n     <!-- 0 -->\r\n     <g transform=\"translate(138.780674 54.631245)scale(0.08 -0.08)\">\r\n      <use xlink:href=\"#DejaVuSans-30\"/>\r\n     </g>\r\n    </g>\r\n   </g>\r\n   <g id=\"text_5\">\r\n    <g clip-path=\"url(#p6060bed8fb)\">\r\n     <!-- H -->\r\n     <g transform=\"translate(181.888471 47.147988)scale(0.13 -0.13)\">\r\n      <defs>\r\n       <path d=\"M 628 4666 \r\nL 1259 4666 \r\nL 1259 2753 \r\nL 3553 2753 \r\nL 3553 4666 \r\nL 4184 4666 \r\nL 4184 0 \r\nL 3553 0 \r\nL 3553 2222 \r\nL 1259 2222 \r\nL 1259 0 \r\nL 628 0 \r\nL 628 4666 \r\nz\r\n\" id=\"DejaVuSans-48\" transform=\"scale(0.015625)\"/>\r\n      </defs>\r\n      <use xlink:href=\"#DejaVuSans-48\"/>\r\n     </g>\r\n    </g>\r\n   </g>\r\n   <g id=\"text_6\">\r\n    <g clip-path=\"url(#p6060bed8fb)\">\r\n     <!-- X -->\r\n     <g transform=\"translate(227.775174 47.147988)scale(0.13 -0.13)\">\r\n      <defs>\r\n       <path d=\"M 403 4666 \r\nL 1081 4666 \r\nL 2241 2931 \r\nL 3406 4666 \r\nL 4084 4666 \r\nL 2584 2425 \r\nL 4184 0 \r\nL 3506 0 \r\nL 2194 1984 \r\nL 872 0 \r\nL 191 0 \r\nL 1856 2491 \r\nL 403 4666 \r\nz\r\n\" id=\"DejaVuSans-58\" transform=\"scale(0.015625)\"/>\r\n      </defs>\r\n      <use xlink:href=\"#DejaVuSans-58\"/>\r\n     </g>\r\n    </g>\r\n   </g>\r\n   <g id=\"text_7\">\r\n    <g clip-path=\"url(#p6060bed8fb)\">\r\n     <!-- 0 -->\r\n     <g transform=\"translate(289.041424 82.303825)scale(0.104 -0.104)\">\r\n      <use xlink:href=\"#DejaVuSans-30\"/>\r\n     </g>\r\n    </g>\r\n   </g>\r\n   <g id=\"text_8\">\r\n    <g clip-path=\"url(#p6060bed8fb)\">\r\n     <!-- q_1 -->\r\n     <g transform=\"translate(33.46066 47.592831)scale(0.1625 -0.1625)\">\r\n      <defs>\r\n       <path d=\"M 947 1747 \r\nQ 947 1113 1208 752 \r\nQ 1469 391 1925 391 \r\nQ 2381 391 2643 752 \r\nQ 2906 1113 2906 1747 \r\nQ 2906 2381 2643 2742 \r\nQ 2381 3103 1925 3103 \r\nQ 1469 3103 1208 2742 \r\nQ 947 2381 947 1747 \r\nz\r\nM 2906 525 \r\nQ 2725 213 2448 61 \r\nQ 2172 -91 1784 -91 \r\nQ 1150 -91 751 415 \r\nQ 353 922 353 1747 \r\nQ 353 2572 751 3078 \r\nQ 1150 3584 1784 3584 \r\nQ 2172 3584 2448 3432 \r\nQ 2725 3281 2906 2969 \r\nL 2906 3500 \r\nL 3481 3500 \r\nL 3481 -1331 \r\nL 2906 -1331 \r\nL 2906 525 \r\nz\r\n\" id=\"DejaVuSans-71\" transform=\"scale(0.015625)\"/>\r\n       <path d=\"M 3263 -1063 \r\nL 3263 -1509 \r\nL -63 -1509 \r\nL -63 -1063 \r\nL 3263 -1063 \r\nz\r\n\" id=\"DejaVuSans-5f\" transform=\"scale(0.015625)\"/>\r\n       <path d=\"M 794 531 \r\nL 1825 531 \r\nL 1825 4091 \r\nL 703 3866 \r\nL 703 4441 \r\nL 1819 4666 \r\nL 2450 4666 \r\nL 2450 531 \r\nL 3481 531 \r\nL 3481 0 \r\nL 794 0 \r\nL 794 531 \r\nz\r\n\" id=\"DejaVuSans-31\" transform=\"scale(0.015625)\"/>\r\n      </defs>\r\n      <use xlink:href=\"#DejaVuSans-71\"/>\r\n      <use x=\"63.476562\" xlink:href=\"#DejaVuSans-5f\"/>\r\n      <use x=\"113.476562\" xlink:href=\"#DejaVuSans-31\"/>\r\n     </g>\r\n    </g>\r\n   </g>\r\n   <g id=\"text_9\">\r\n    <g clip-path=\"url(#p6060bed8fb)\">\r\n     <!-- c1 -->\r\n     <g transform=\"translate(42.96691 93.495784)scale(0.1625 -0.1625)\">\r\n      <defs>\r\n       <path d=\"M 3122 3366 \r\nL 3122 2828 \r\nQ 2878 2963 2633 3030 \r\nQ 2388 3097 2138 3097 \r\nQ 1578 3097 1268 2742 \r\nQ 959 2388 959 1747 \r\nQ 959 1106 1268 751 \r\nQ 1578 397 2138 397 \r\nQ 2388 397 2633 464 \r\nQ 2878 531 3122 666 \r\nL 3122 134 \r\nQ 2881 22 2623 -34 \r\nQ 2366 -91 2075 -91 \r\nQ 1284 -91 818 406 \r\nQ 353 903 353 1747 \r\nQ 353 2603 823 3093 \r\nQ 1294 3584 2113 3584 \r\nQ 2378 3584 2631 3529 \r\nQ 2884 3475 3122 3366 \r\nz\r\n\" id=\"DejaVuSans-63\" transform=\"scale(0.015625)\"/>\r\n      </defs>\r\n      <use xlink:href=\"#DejaVuSans-63\"/>\r\n      <use x=\"54.980469\" xlink:href=\"#DejaVuSans-31\"/>\r\n     </g>\r\n    </g>\r\n   </g>\r\n  </g>\r\n </g>\r\n <defs>\r\n  <clipPath id=\"p6060bed8fb\">\r\n   <rect height=\"109.0824\" width=\"300.476334\" x=\"7.2\" y=\"7.2\"/>\r\n  </clipPath>\r\n </defs>\r\n</svg>\r\n",
      "image/png": "[encoded data removed]"
     },
     "metadata": {},
     "execution_count": 24
    }
   ],
   "source": [
    "from qiskit import Aer, transpile, assemble\n",
    "backend = Aer.get_backend(\"qasm_simulator\")\n",
    "SHOTS = 10000\n",
    "\n",
    "def expectation_value_X(params):\n",
    "    qc, qr, cr = create_ansatz(params)\n",
    "    qc.h(qr[0])\n",
    "    qc.x(qr[0])\n",
    "    qc.measure(qr, cr[0])\n",
    "    transpiled = transpile(qc, backend)\n",
    "    job = assemble(transpiled, shots=SHOTS)\n",
    "    result = backend.run(job).result().get_counts(qc)\n",
    "    return (result.get('0', 0) - result.get('1', 0)) / SHOTS\n",
    "    \n",
    "def expectation_value_I(params):\n",
    "    qc, qr, cr = create_ansatz(params)\n",
    "    qc.measure(qr, cr[0])\n",
    "    transpiled = transpile(qc, backend)\n",
    "    job = assemble(transpiled, shots=SHOTS)\n",
    "    result = backend.run(job).result().get_counts(qc)\n",
    "    return (result.get('0', 0) + result.get('1', 0)) / SHOTS\n",
    "\n",
    "print(\"The circuit for calculating the expectationvalue of X:\")\n",
    "qc, qr, cr = create_ansatz([0,0])\n",
    "qc.h(qr[0])\n",
    "qc.x(qr[0])\n",
    "qc.measure(qr, cr[0])\n",
    "qc.draw(output='mpl')"
   ]
  },
  {
   "source": [
    "Then we can make a cost fucntion that we can give to a classical program that optimizes the parameters so that the expectation value is minimized. Having a good starting quess for the parameter can help, but random works in this case. In the end we use the cost function to calculate the approximated smalles eigenvalue with the optimized parameters."
   ],
   "cell_type": "markdown",
   "metadata": {}
  },
  {
   "cell_type": "code",
   "execution_count": 25,
   "metadata": {},
   "outputs": [
    {
     "output_type": "stream",
     "name": "stdout",
     "text": [
      "Parameter/s: [ 1.56648374 -0.0203255 ]\nApproximated lowest eigenvalue: 1.0002\n"
     ]
    }
   ],
   "source": [
    "from qiskit.aqua.components.optimizers import COBYLA\n",
    "import numpy as np\n",
    "\n",
    "def cost(params):\n",
    "    expectation_X = expectation_value_X(params)\n",
    "    expectation_I = expectation_value_I(params)\n",
    "    return 2 * expectation_I + expectation_X\n",
    "\n",
    "optimizer = COBYLA(maxiter=500, tol=0.0001)\n",
    "params = np.random.rand(2)\n",
    "result = optimizer.optimize(\n",
    "    num_vars=2,\n",
    "    objective_function=cost,\n",
    "    initial_point=params\n",
    ")\n",
    "\n",
    "\n",
    "print(f'Parameter/s: {result[0]}')\n",
    "print(f'Approximated lowest eigenvalue: {cost(result[0])}');"
   ]
  },
  {
   "source": [
    "This is a pretty good result. The lowest eigenvalue is 1.\n"
   ],
   "cell_type": "markdown",
   "metadata": {}
  },
  {
   "source": [
    "## $2^n\\times 2^n$ Hermitian matrices\n",
    "\n",
    "For $|\\psi\\rangle$ we only have to add more qubits. What changes is how we represent $M$. We can use parallel gates to create matrices with tensor products of the pauli matrices \\[3\\]. Because finding the representation as ternsor products of pauli matrices and calculating how to measure the expectationvalues afterwars, there are programs for doint that. As an examle \n",
    "\n",
    "$$\n",
    "M=\n",
    "\\begin{bmatrix}\n",
    "1&0&0&-i\\\\\n",
    "0&1&i&0\\\\\n",
    "0&-i&1&0\\\\\n",
    "i&0&0&1\n",
    "\\end{bmatrix}\n",
    "=\n",
    "\\begin{bmatrix}\n",
    "1&0&0&0\\\\\n",
    "0&1&0&0\\\\\n",
    "0&0&1&0\\\\\n",
    "0&0&0&1\n",
    "\\end{bmatrix}\n",
    "+\n",
    "\\begin{bmatrix}\n",
    "0&0&0&-i\\\\\n",
    "0&0&i&0\\\\\n",
    "0&-i&0&0\\\\\n",
    "i&0&0&0\n",
    "\\end{bmatrix}\n",
    "= I\\otimes I + X\\otimes Y\n",
    "$$\n",
    "\n",
    "Where $X\\otimes Y$ on a quantum circuit looks like\n",
    "\n",
    "\n"
   ],
   "cell_type": "markdown",
   "metadata": {}
  },
  {
   "cell_type": "code",
   "execution_count": 27,
   "metadata": {},
   "outputs": [
    {
     "output_type": "execute_result",
     "data": {
      "text/plain": [
       "<Figure size 146.652x204.68 with 1 Axes>"
      ],
      "image/svg+xml": "<?xml version=\"1.0\" encoding=\"utf-8\" standalone=\"no\"?>\r\n<!DOCTYPE svg PUBLIC \"-//W3C//DTD SVG 1.1//EN\"\r\n  \"http://www.w3.org/Graphics/SVG/1.1/DTD/svg11.dtd\">\r\n<svg height=\"168.9334pt\" version=\"1.1\" viewBox=\"0 0 125.122272 168.9334\" width=\"125.122272pt\" xmlns=\"http://www.w3.org/2000/svg\" xmlns:xlink=\"http://www.w3.org/1999/xlink\">\r\n <metadata>\r\n  <rdf:RDF xmlns:cc=\"http://creativecommons.org/ns#\" xmlns:dc=\"http://purl.org/dc/elements/1.1/\" xmlns:rdf=\"http://www.w3.org/1999/02/22-rdf-syntax-ns#\">\r\n   <cc:Work>\r\n    <dc:type rdf:resource=\"http://purl.org/dc/dcmitype/StillImage\"/>\r\n    <dc:date>2021-05-03T20:47:42.723230</dc:date>\r\n    <dc:format>image/svg+xml</dc:format>\r\n    <dc:creator>\r\n     <cc:Agent>\r\n      <dc:title>Matplotlib v3.4.1, https://matplotlib.org/</dc:title>\r\n     </cc:Agent>\r\n    </dc:creator>\r\n   </cc:Work>\r\n  </rdf:RDF>\r\n </metadata>\r\n <defs>\r\n  <style type=\"text/css\">*{stroke-linecap:butt;stroke-linejoin:round;}</style>\r\n </defs>\r\n <g id=\"figure_1\">\r\n  <g id=\"patch_1\">\r\n   <path d=\"M 0 168.9334 \r\nL 125.122272 168.9334 \r\nL 125.122272 0 \r\nL 0 0 \r\nz\r\n\" style=\"fill:#ffffff;\"/>\r\n  </g>\r\n  <g id=\"axes_1\">\r\n   <g id=\"line2d_1\">\r\n    <path clip-path=\"url(#pbbe63b417a)\" d=\"M 63.381072 43.5608 \r\nL 113.377172 43.5608 \r\n\" style=\"fill:none;stroke:#000000;stroke-linecap:square;stroke-width:2;\"/>\r\n   </g>\r\n   <g id=\"line2d_2\">\r\n    <path clip-path=\"url(#pbbe63b417a)\" d=\"M 63.381072 89.0118 \r\nL 113.377172 89.0118 \r\n\" style=\"fill:none;stroke:#000000;stroke-linecap:square;stroke-width:2;\"/>\r\n   </g>\r\n   <g id=\"line2d_3\">\r\n    <path clip-path=\"url(#pbbe63b417a)\" d=\"M 63.381072 132.985643 \r\nL 113.377172 132.985643 \r\n\" style=\"fill:none;stroke:#778899;stroke-linecap:square;stroke-width:2;\"/>\r\n   </g>\r\n   <g id=\"line2d_4\">\r\n    <path clip-path=\"url(#pbbe63b417a)\" d=\"M 63.381072 135.939958 \r\nL 113.377172 135.939958 \r\n\" style=\"fill:none;stroke:#778899;stroke-linecap:square;stroke-width:2;\"/>\r\n   </g>\r\n   <g id=\"line2d_5\">\r\n    <path clip-path=\"url(#pbbe63b417a)\" d=\"M 72.471272 139.0079 \r\nL 77.016372 129.9177 \r\n\" style=\"fill:none;stroke:#778899;stroke-linecap:square;stroke-width:1.5;\"/>\r\n   </g>\r\n   <g id=\"patch_2\">\r\n    <path clip-path=\"url(#pbbe63b417a)\" d=\"M 73.153037 58.332375 \r\nL 102.696187 58.332375 \r\nL 102.696187 28.789225 \r\nL 73.153037 28.789225 \r\nz\r\n\" style=\"fill:#05bab6;stroke:#05bab6;stroke-linejoin:miter;stroke-width:1.5;\"/>\r\n   </g>\r\n   <g id=\"patch_3\">\r\n    <path clip-path=\"url(#pbbe63b417a)\" d=\"M 73.153037 103.783375 \r\nL 102.696187 103.783375 \r\nL 102.696187 74.240225 \r\nL 73.153037 74.240225 \r\nz\r\n\" style=\"fill:#05bab6;stroke:#05bab6;stroke-linejoin:miter;stroke-width:1.5;\"/>\r\n   </g>\r\n   <g id=\"text_1\">\r\n    <g clip-path=\"url(#pbbe63b417a)\">\r\n     <!-- X -->\r\n     <g transform=\"translate(83.472112 47.147988)scale(0.13 -0.13)\">\r\n      <defs>\r\n       <path d=\"M 403 4666 \r\nL 1081 4666 \r\nL 2241 2931 \r\nL 3406 4666 \r\nL 4084 4666 \r\nL 2584 2425 \r\nL 4184 0 \r\nL 3506 0 \r\nL 2194 1984 \r\nL 872 0 \r\nL 191 0 \r\nL 1856 2491 \r\nL 403 4666 \r\nz\r\n\" id=\"DejaVuSans-58\" transform=\"scale(0.015625)\"/>\r\n      </defs>\r\n      <use xlink:href=\"#DejaVuSans-58\"/>\r\n     </g>\r\n    </g>\r\n   </g>\r\n   <g id=\"text_2\">\r\n    <g clip-path=\"url(#pbbe63b417a)\">\r\n     <!-- Y -->\r\n     <g transform=\"translate(83.954534 92.598988)scale(0.13 -0.13)\">\r\n      <defs>\r\n       <path d=\"M -13 4666 \r\nL 666 4666 \r\nL 1959 2747 \r\nL 3244 4666 \r\nL 3922 4666 \r\nL 2272 2222 \r\nL 2272 0 \r\nL 1638 0 \r\nL 1638 2222 \r\nL -13 4666 \r\nz\r\n\" id=\"DejaVuSans-59\" transform=\"scale(0.015625)\"/>\r\n      </defs>\r\n      <use xlink:href=\"#DejaVuSans-59\"/>\r\n     </g>\r\n    </g>\r\n   </g>\r\n   <g id=\"text_3\">\r\n    <g clip-path=\"url(#pbbe63b417a)\">\r\n     <!-- ${q}_{0}$ -->\r\n     <g transform=\"translate(36.253372 48.011777)scale(0.1625 -0.1625)\">\r\n      <defs>\r\n       <path d=\"M 2669 525 \r\nQ 2438 222 2123 65 \r\nQ 1809 -91 1428 -91 \r\nQ 897 -91 595 267 \r\nQ 294 625 294 1253 \r\nQ 294 1759 480 2231 \r\nQ 666 2703 1013 3078 \r\nQ 1238 3322 1530 3453 \r\nQ 1822 3584 2144 3584 \r\nQ 2531 3584 2781 3431 \r\nQ 3031 3278 3144 2969 \r\nL 3244 3494 \r\nL 3822 3494 \r\nL 2888 -1319 \r\nL 2309 -1319 \r\nL 2669 525 \r\nz\r\nM 891 1338 \r\nQ 891 875 1084 633 \r\nQ 1278 391 1644 391 \r\nQ 2188 391 2572 911 \r\nQ 2956 1431 2956 2175 \r\nQ 2956 2625 2757 2864 \r\nQ 2559 3103 2188 3103 \r\nQ 1916 3103 1684 2976 \r\nQ 1453 2850 1281 2606 \r\nQ 1100 2350 995 2006 \r\nQ 891 1663 891 1338 \r\nz\r\n\" id=\"DejaVuSans-Oblique-71\" transform=\"scale(0.015625)\"/>\r\n       <path d=\"M 2034 4250 \r\nQ 1547 4250 1301 3770 \r\nQ 1056 3291 1056 2328 \r\nQ 1056 1369 1301 889 \r\nQ 1547 409 2034 409 \r\nQ 2525 409 2770 889 \r\nQ 3016 1369 3016 2328 \r\nQ 3016 3291 2770 3770 \r\nQ 2525 4250 2034 4250 \r\nz\r\nM 2034 4750 \r\nQ 2819 4750 3233 4129 \r\nQ 3647 3509 3647 2328 \r\nQ 3647 1150 3233 529 \r\nQ 2819 -91 2034 -91 \r\nQ 1250 -91 836 529 \r\nQ 422 1150 422 2328 \r\nQ 422 3509 836 4129 \r\nQ 1250 4750 2034 4750 \r\nz\r\n\" id=\"DejaVuSans-30\" transform=\"scale(0.015625)\"/>\r\n      </defs>\r\n      <use xlink:href=\"#DejaVuSans-Oblique-71\"/>\r\n      <use transform=\"translate(63.476562 -16.40625)scale(0.7)\" xlink:href=\"#DejaVuSans-30\"/>\r\n     </g>\r\n    </g>\r\n   </g>\r\n   <g id=\"text_4\">\r\n    <g clip-path=\"url(#pbbe63b417a)\">\r\n     <!-- ${q}_{1}$ -->\r\n     <g transform=\"translate(36.253372 93.462777)scale(0.1625 -0.1625)\">\r\n      <defs>\r\n       <path d=\"M 794 531 \r\nL 1825 531 \r\nL 1825 4091 \r\nL 703 3866 \r\nL 703 4441 \r\nL 1819 4666 \r\nL 2450 4666 \r\nL 2450 531 \r\nL 3481 531 \r\nL 3481 0 \r\nL 794 0 \r\nL 794 531 \r\nz\r\n\" id=\"DejaVuSans-31\" transform=\"scale(0.015625)\"/>\r\n      </defs>\r\n      <use xlink:href=\"#DejaVuSans-Oblique-71\"/>\r\n      <use transform=\"translate(63.476562 -16.40625)scale(0.7)\" xlink:href=\"#DejaVuSans-31\"/>\r\n     </g>\r\n    </g>\r\n   </g>\r\n   <g id=\"text_5\">\r\n    <g clip-path=\"url(#pbbe63b417a)\">\r\n     <!-- 2 -->\r\n     <g transform=\"translate(67.926172 127.754825)scale(0.104 -0.104)\">\r\n      <defs>\r\n       <path d=\"M 1228 531 \r\nL 3431 531 \r\nL 3431 0 \r\nL 469 0 \r\nL 469 531 \r\nQ 828 903 1448 1529 \r\nQ 2069 2156 2228 2338 \r\nQ 2531 2678 2651 2914 \r\nQ 2772 3150 2772 3378 \r\nQ 2772 3750 2511 3984 \r\nQ 2250 4219 1831 4219 \r\nQ 1534 4219 1204 4116 \r\nQ 875 4013 500 3803 \r\nL 500 4441 \r\nQ 881 4594 1212 4672 \r\nQ 1544 4750 1819 4750 \r\nQ 2544 4750 2975 4387 \r\nQ 3406 4025 3406 3419 \r\nQ 3406 3131 3298 2873 \r\nQ 3191 2616 2906 2266 \r\nQ 2828 2175 2409 1742 \r\nQ 1991 1309 1228 531 \r\nz\r\n\" id=\"DejaVuSans-32\" transform=\"scale(0.015625)\"/>\r\n      </defs>\r\n      <use xlink:href=\"#DejaVuSans-32\"/>\r\n     </g>\r\n    </g>\r\n   </g>\r\n   <g id=\"text_6\">\r\n    <g clip-path=\"url(#pbbe63b417a)\">\r\n     <!-- c1 -->\r\n     <g transform=\"translate(35.016849 138.946784)scale(0.1625 -0.1625)\">\r\n      <defs>\r\n       <path d=\"M 3122 3366 \r\nL 3122 2828 \r\nQ 2878 2963 2633 3030 \r\nQ 2388 3097 2138 3097 \r\nQ 1578 3097 1268 2742 \r\nQ 959 2388 959 1747 \r\nQ 959 1106 1268 751 \r\nQ 1578 397 2138 397 \r\nQ 2388 397 2633 464 \r\nQ 2878 531 3122 666 \r\nL 3122 134 \r\nQ 2881 22 2623 -34 \r\nQ 2366 -91 2075 -91 \r\nQ 1284 -91 818 406 \r\nQ 353 903 353 1747 \r\nQ 353 2603 823 3093 \r\nQ 1294 3584 2113 3584 \r\nQ 2378 3584 2631 3529 \r\nQ 2884 3475 3122 3366 \r\nz\r\n\" id=\"DejaVuSans-63\" transform=\"scale(0.015625)\"/>\r\n      </defs>\r\n      <use xlink:href=\"#DejaVuSans-63\"/>\r\n      <use x=\"54.980469\" xlink:href=\"#DejaVuSans-31\"/>\r\n     </g>\r\n    </g>\r\n   </g>\r\n  </g>\r\n </g>\r\n <defs>\r\n  <clipPath id=\"pbbe63b417a\">\r\n   <rect height=\"154.5334\" width=\"110.722272\" x=\"7.2\" y=\"7.2\"/>\r\n  </clipPath>\r\n </defs>\r\n</svg>\r\n",
      "image/png": "[encoded data removed]"
     },
     "metadata": {},
     "execution_count": 27
    }
   ],
   "source": [
    "from qiskit import QuantumCircuit, ClassicalRegister, QuantumRegister\n",
    "\n",
    "qr = QuantumRegister(2, name=\"q\")\n",
    "cr = ClassicalRegister(2, name='c1')\n",
    "qc = QuantumCircuit(qr, cr)\n",
    "qc.x(qr[0])\n",
    "qc.y(qr[1])\n",
    "\n",
    "qc.draw(output='mpl')"
   ]
  },
  {
   "source": [
    "This shows one of the streghts of VQE it needs only $\\log_2(n)$ qubits for a $\\mathbb C^{n\\times n}$ matrix."
   ],
   "cell_type": "markdown",
   "metadata": {}
  },
  {
   "source": [
    "## $n\\times n$ Hermitian matrices\n",
    "\n",
    "As far as I know you can only run $2^n\\times 2^n$. I use a trick to transform the matrix to a bigger matrix so that I add big eigenvalues. If I get an eigenvalue that I added I change it to be bigger and run the algorithm again. For me the most natural way of doing this is to add a new eigenvalue $\\lambda_{BIG}$ in the following way.\n",
    "\n",
    "$$\n",
    "\\begin{bmatrix}\n",
    "1&0&1&\\\\\n",
    "0&1&0\\\\\n",
    "1&0&1\\\\\n",
    "\\end{bmatrix}\n",
    "\\rightarrow\n",
    "\\begin{bmatrix}\n",
    "1&0&1&0\\\\\n",
    "0&1&0&0\\\\\n",
    "1&0&1&0\\\\\n",
    "0&0&0&\\lambda_{BIG}\n",
    "\\end{bmatrix}\n",
    "$$\n",
    "\n",
    "Because $\\lambda_{BIG}$ is alone on its colum and row we still have all old expectationvalues and ofcourse $\\lambda_{BIG}$."
   ],
   "cell_type": "markdown",
   "metadata": {}
  },
  {
   "source": [
    "## Acknowledgments\n",
    "I would like to thank Master of Science Mika Mäki for helping me to understand expectation values better."
   ],
   "cell_type": "markdown",
   "metadata": {}
  },
  {
   "source": [
    "## References\n",
    "1. Wikipedia. Eigenvalues and eigenvectors. Accessed 3.5.2021  \n",
    "https://en.wikipedia.org/wiki/Eigenvalues_and_eigenvectors\n",
    "\n",
    "2. Wikipedia. Hermitian matrix. Accessed 3.5.2021  \n",
    "https://en.wikipedia.org/wiki/Hermitian_matrix\n",
    "\n",
    "3. Wikipedia. Quantum logic gate. Accessed 3.5.2021  \n",
    "https://en.wikipedia.org/wiki/Quantum_logic_gate\n",
    "\n",
    "4. Wikipedia. Expectation value (quantum mechanics). Accessed 3.5.2021  \n",
    "https://en.wikipedia.org/wiki/Expectation_value_(quantum_mechanics)\n",
    "\n",
    "5. qplaylearn. LEARN: MEASUREMENT - Advanced. Accessed 3.5.2021  \n",
    "http://qplaylearn.com/wp-content/uploads/2020/12/Learn-Quantum-Measurement.pdf\n",
    "\n",
    "6. Qiskit. Simulating Molecules using VQE. Accessed 3.5.2021  \n",
    "https://qiskit.org/textbook/ch-applications/vqe-molecules.html\n",
    "\n",
    "7. Wikipedia. Pauli matrices. Accessed 3.5.2021  \n",
    "https://en.wikipedia.org/wiki/Pauli_matrices\n",
    "\n",
    "8. Qiskit. Lab 2. Quantum Measurement. Accessed 3.5.2021  \n",
    "https://qiskit.org/textbook/ch-labs/Lab02_QuantumMeasurement.html"
   ],
   "cell_type": "markdown",
   "metadata": {}
  }
 ]
}
